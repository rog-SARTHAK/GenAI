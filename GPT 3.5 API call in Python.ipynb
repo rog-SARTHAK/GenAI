{
 "cells": [
  {
   "cell_type": "markdown",
   "id": "b87d14fb",
   "metadata": {},
   "source": [
    "# Chat GPT 3.5 API call in Python"
   ]
  },
  {
   "cell_type": "markdown",
   "id": "81350373",
   "metadata": {},
   "source": [
    "Models\n",
    "https://platform.openai.com/docs/models/overview\n",
    "\n",
    "API Account\n",
    "https://platform.openai.com/overview\n",
    "\n",
    "Track Usage\n",
    "https://platform.openai.com/account/usage"
   ]
  },
  {
   "cell_type": "markdown",
   "id": "50099494",
   "metadata": {},
   "source": [
    "GPT-4 has a new pricing model:\n",
    "\n",
    " \n",
    "\n",
    "For models with 8k context lengths (e.g. gpt-4 and gpt-4-0314), the price is:\n",
    "\n",
    "$0.03/1k prompt tokens\n",
    "\n",
    "$0.06/1k sampled tokens\n",
    "\n",
    " \n",
    "\n",
    "For models with 32k context lengths (e.g. gpt-4-32k and gpt-4-32k-0314), the price is:\n",
    "\n",
    "$0.06/1k prompt tokens\n",
    "\n",
    "$0.12/1k sampled tokens"
   ]
  },
  {
   "cell_type": "markdown",
   "id": "3d157d61",
   "metadata": {},
   "source": [
    "API Access\n",
    "On July 6, 2023, we gave access to the GPT-4 API (8k) to all API users who have made a successful payment of $1 or more. We plan to open up access to all developers soon, and then start raising rate-limits after that depending on compute availability.\n",
    "\n",
    " \n",
    "\n",
    "We are not currently granting access to GPT-4-32K API, but it will be made available at a later date.\n",
    "\n",
    " \n",
    "\n",
    "For API accounts created after August 18, 2023, you can get instant access to GPT-4 after purchasing $0.50 worth or more of pre-paid credits."
   ]
  },
  {
   "cell_type": "markdown",
   "id": "462f0c6c",
   "metadata": {},
   "source": [
    "Generate API key from\n",
    "https://platform.openai.com/"
   ]
  },
  {
   "cell_type": "markdown",
   "id": "2a811613",
   "metadata": {},
   "source": [
    "Create a new secret API Key"
   ]
  },
  {
   "cell_type": "markdown",
   "id": "c95b94fc",
   "metadata": {},
   "source": [
    "ChatGPT Plus:\n",
    "ChatGPT Plus subscribers will get GPT-4 access on chat.openai.com with a usage cap. We will dynamically adjust the exact usage cap depending on demand and system performance in practice. GPT-4 currently has a cap of 50 messages every 3 hours.\n",
    "\n",
    "\n",
    "\n",
    "For many basic tasks, the difference between GPT-4 and GPT-3.5 models is not significant. However, in more complex reasoning situations, GPT-4 is much more capable than any of the previous models."
   ]
  },
  {
   "cell_type": "markdown",
   "id": "55d0777a",
   "metadata": {},
   "source": [
    "gpt-4 API has limit of 8,192 tokens with training data up to Sep 2021"
   ]
  },
  {
   "cell_type": "code",
   "execution_count": 18,
   "id": "0445699c",
   "metadata": {},
   "outputs": [
    {
     "name": "stdout",
     "output_type": "stream",
     "text": [
      "Defaulting to user installation because normal site-packages is not writeable\n",
      "Requirement already satisfied: openai in c:\\users\\ual-laptop\\appdata\\roaming\\python\\python311\\site-packages (0.28.1)\n",
      "Requirement already satisfied: requests>=2.20 in c:\\users\\ual-laptop\\appdata\\roaming\\python\\python311\\site-packages (from openai) (2.31.0)\n",
      "Requirement already satisfied: tqdm in c:\\programdata\\anaconda3\\lib\\site-packages (from openai) (4.65.0)\n",
      "Requirement already satisfied: aiohttp in c:\\programdata\\anaconda3\\lib\\site-packages (from openai) (3.8.3)\n",
      "Requirement already satisfied: charset-normalizer<4,>=2 in c:\\users\\ual-laptop\\appdata\\roaming\\python\\python311\\site-packages (from requests>=2.20->openai) (2.1.1)\n",
      "Requirement already satisfied: idna<4,>=2.5 in c:\\users\\ual-laptop\\appdata\\roaming\\python\\python311\\site-packages (from requests>=2.20->openai) (3.4)\n",
      "Requirement already satisfied: urllib3<3,>=1.21.1 in c:\\users\\ual-laptop\\appdata\\roaming\\python\\python311\\site-packages (from requests>=2.20->openai) (1.26.18)\n",
      "Requirement already satisfied: certifi>=2017.4.17 in c:\\users\\ual-laptop\\appdata\\roaming\\python\\python311\\site-packages (from requests>=2.20->openai) (2023.7.22)\n",
      "Requirement already satisfied: attrs>=17.3.0 in c:\\users\\ual-laptop\\appdata\\roaming\\python\\python311\\site-packages (from aiohttp->openai) (23.1.0)\n",
      "Requirement already satisfied: multidict<7.0,>=4.5 in c:\\programdata\\anaconda3\\lib\\site-packages (from aiohttp->openai) (6.0.2)\n",
      "Requirement already satisfied: async-timeout<5.0,>=4.0.0a3 in c:\\programdata\\anaconda3\\lib\\site-packages (from aiohttp->openai) (4.0.2)\n",
      "Requirement already satisfied: yarl<2.0,>=1.0 in c:\\programdata\\anaconda3\\lib\\site-packages (from aiohttp->openai) (1.8.1)\n",
      "Requirement already satisfied: frozenlist>=1.1.1 in c:\\programdata\\anaconda3\\lib\\site-packages (from aiohttp->openai) (1.3.3)\n",
      "Requirement already satisfied: aiosignal>=1.1.2 in c:\\programdata\\anaconda3\\lib\\site-packages (from aiohttp->openai) (1.2.0)\n",
      "Requirement already satisfied: colorama in c:\\users\\ual-laptop\\appdata\\roaming\\python\\python311\\site-packages (from tqdm->openai) (0.4.6)\n"
     ]
    }
   ],
   "source": [
    "!pip install openai"
   ]
  },
  {
   "cell_type": "code",
   "execution_count": 32,
   "id": "32fb2236",
   "metadata": {},
   "outputs": [],
   "source": [
    "import openai"
   ]
  },
  {
   "cell_type": "code",
   "execution_count": 33,
   "id": "e3c93b53",
   "metadata": {},
   "outputs": [
    {
     "name": "stdout",
     "output_type": "stream",
     "text": [
      "0.28.1\n"
     ]
    }
   ],
   "source": [
    "print(openai.__version__)"
   ]
  },
  {
   "cell_type": "code",
   "execution_count": 40,
   "id": "447b7c70",
   "metadata": {},
   "outputs": [],
   "source": [
    "API_KEY = 'sk-s******************************************'"
   ]
  },
  {
   "cell_type": "code",
   "execution_count": 34,
   "id": "0fa7d7ac",
   "metadata": {},
   "outputs": [],
   "source": [
    "openai.api_key = API_KEY"
   ]
  },
  {
   "cell_type": "code",
   "execution_count": 35,
   "id": "7c199c6f",
   "metadata": {},
   "outputs": [],
   "source": [
    "model_id = 'gpt-3.5-turbo'"
   ]
  },
  {
   "cell_type": "markdown",
   "id": "21948fda",
   "metadata": {},
   "source": [
    "OpenAI calls the Python library. NOTE this is not an AI model"
   ]
  },
  {
   "cell_type": "code",
   "execution_count": 36,
   "id": "e5420738",
   "metadata": {},
   "outputs": [],
   "source": [
    "#system, assistant, user\n",
    "conv = []\n",
    "conv.append({'role': 'system', 'content': 'how do I install python ?'})\n"
   ]
  },
  {
   "cell_type": "code",
   "execution_count": 37,
   "id": "345d4b17",
   "metadata": {},
   "outputs": [],
   "source": [
    "def ChatGPT_conversation(conv):\n",
    "    response = openai.ChatCompletion.create(\n",
    "        model=model_id,\n",
    "        messages=conv\n",
    "    )\n",
    "    \n",
    "    api_usage = response['usage']\n",
    "    print('Total token consumed: {0}'.format(api_usage['total_tokens']))\n",
    "    \n",
    "    #stop means complete\n",
    "    print(response['choices'][0].finish_reason)\n",
    "    print(response['choices'][0].index)\n",
    "    \n",
    "    conv.append({'role': response.choices[0].message.role, 'content':response.choices[0].message.content})\n",
    "    return conv\n",
    "\n",
    "\n"
   ]
  },
  {
   "cell_type": "code",
   "execution_count": 38,
   "id": "b5f09c21",
   "metadata": {},
   "outputs": [
    {
     "name": "stdout",
     "output_type": "stream",
     "text": [
      "Total token consumed: 228\n",
      "stop\n",
      "0\n",
      "Role: assistant; Content: To install Python on your system, you can follow the steps below:\n",
      "\n",
      "1. Visit the official Python website at https://www.python.org/downloads/.\n",
      "2. Choose the version of Python you want to install. It's recommended to download the latest stable version available.\n",
      "3. Click on the download link for your respective operating system (Windows, macOS, or Linux).\n",
      "4. Once the installer is downloaded, run it.\n",
      "   - On Windows, you might need to check the \"Add Python to PATH\" option during installation. This makes it easier to use Python from the command line.\n",
      "   - On macOS, the installer will guide you through the installation process.\n",
      "   - On Linux, you can use the package manager of your distribution to install Python, or you can compile from source.\n",
      "5. Follow the instructions provided by the installer to complete the installation.\n",
      "6. After installation, open a command prompt or terminal and type `python --version` to verify that Python is installed correctly. You should see the version number displayed.\n",
      "\n",
      "Congratulations! You have successfully installed Python on your system.\n"
     ]
    }
   ],
   "source": [
    "\n",
    "conv = ChatGPT_conversation(conv)\n",
    "print('Role: {0}; Content: {1}'.format(conv[-1]['role'], conv[-1]['content']))"
   ]
  },
  {
   "cell_type": "code",
   "execution_count": 39,
   "id": "ec6e6088",
   "metadata": {},
   "outputs": [
    {
     "name": "stdout",
     "output_type": "stream",
     "text": [
      "assistant\n",
      "You can install Python by following these steps:\n",
      "\n",
      "1. Visit the official Python website at https://www.python.org/downloads/.\n",
      "\n",
      "2. On the Downloads page, click on the version of Python you want to install. It is recommended to download the latest stable version available.\n",
      "\n",
      "3. Scroll down to the Files section and select the installer appropriate for your operating system. For Windows, choose the executable installer (.exe file). For macOS, choose the macOS installer (.dmg file). For Linux, choose the installer appropriate for your distribution (.tar.gz file).\n",
      "\n",
      "4. Once the installer is downloaded, locate the file and double-click on it to run the installer.\n",
      "\n",
      "5. On the first page of the installer, make sure to check the box that says \"Add Python to PATH\" if it is not already checked. This will allow you to use Python from the command line.\n",
      "\n",
      "6. Follow the prompts and accept the default settings throughout the installation process.\n",
      "\n",
      "7. Once the installation is complete, open the command prompt (Windows) or terminal (macOS and Linux).\n",
      "\n",
      "8. Type `python` or `python3` and press Enter to start the Python interpreter. If you see the Python version information, it means Python is installed correctly.\n",
      "\n",
      "That's it! Python is now installed on your system. You can start using it to write and run Python programs.\n"
     ]
    }
   ],
   "source": [
    "response = openai.ChatCompletion.create(\n",
    "        model=model_id,\n",
    "        messages=conv\n",
    ")\n",
    "print(response.choices[-1].message.role)\n",
    "print(response.choices[-1].message.content)"
   ]
  },
  {
   "cell_type": "code",
   "execution_count": null,
   "id": "7c5a95ac",
   "metadata": {},
   "outputs": [],
   "source": []
  }
 ],
 "metadata": {
  "kernelspec": {
   "display_name": "Python 3 (ipykernel)",
   "language": "python",
   "name": "python3"
  },
  "language_info": {
   "codemirror_mode": {
    "name": "ipython",
    "version": 3
   },
   "file_extension": ".py",
   "mimetype": "text/x-python",
   "name": "python",
   "nbconvert_exporter": "python",
   "pygments_lexer": "ipython3",
   "version": "3.11.4"
  }
 },
 "nbformat": 4,
 "nbformat_minor": 5
}
