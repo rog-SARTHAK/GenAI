{
 "cells": [
  {
   "cell_type": "markdown",
   "id": "86591ad4",
   "metadata": {},
   "source": [
    "# Chat GPT 3.5 API call in Python"
   ]
  },
  {
   "cell_type": "markdown",
   "id": "97651521",
   "metadata": {},
   "source": [
    "### Models\n",
    "https://platform.openai.com/docs/models/overview\n",
    "\n",
    "### API Account\n",
    "https://platform.openai.com/overview\n",
    "\n",
    "### Track Usage\n",
    "https://platform.openai.com/account/usage"
   ]
  },
  {
   "cell_type": "markdown",
   "id": "3a75915f",
   "metadata": {},
   "source": [
    "GPT-4 has a new pricing model:\n",
    "\n",
    " \n",
    "\n",
    "For models with 8k context lengths (e.g. gpt-4 and gpt-4-0314), the price is:\n",
    "\n",
    "$0.03/1k prompt tokens\n",
    "\n",
    "$0.06/1k sampled tokens\n",
    "\n",
    " \n",
    "\n",
    "For models with 32k context lengths (e.g. gpt-4-32k and gpt-4-32k-0314), the price is:\n",
    "\n",
    "$0.06/1k prompt tokens\n",
    "\n",
    "$0.12/1k sampled tokens"
   ]
  },
  {
   "cell_type": "markdown",
   "id": "03e43310",
   "metadata": {},
   "source": [
    "API Access\n",
    "On July 6, 2023, we gave access to the GPT-4 API (8k) to all API users who have made a successful payment of $1 or more. We plan to open up access to all developers soon, and then start raising rate-limits after that depending on compute availability.\n",
    "\n",
    " \n",
    "\n",
    "We are not currently granting access to GPT-4-32K API, but it will be made available at a later date.\n",
    "\n",
    " \n",
    "\n",
    "For API accounts created after August 18, 2023, you can get instant access to GPT-4 after purchasing $0.50 worth or more of pre-paid credits."
   ]
  },
  {
   "cell_type": "markdown",
   "id": "4ac0f206",
   "metadata": {},
   "source": [
    "Generate API key from\n",
    "https://platform.openai.com/"
   ]
  },
  {
   "cell_type": "markdown",
   "id": "4123985c",
   "metadata": {},
   "source": [
    "Create a new secret API Key"
   ]
  },
  {
   "cell_type": "markdown",
   "id": "3da95c10",
   "metadata": {},
   "source": [
    "ChatGPT Plus:\n",
    "ChatGPT Plus subscribers will get GPT-4 access on chat.openai.com with a usage cap. We will dynamically adjust the exact usage cap depending on demand and system performance in practice. GPT-4 currently has a cap of 50 messages every 3 hours.\n",
    "\n",
    "\n",
    "\n",
    "For many basic tasks, the difference between GPT-4 and GPT-3.5 models is not significant. However, in more complex reasoning situations, GPT-4 is much more capable than any of the previous models."
   ]
  },
  {
   "cell_type": "markdown",
   "id": "e7694d0c",
   "metadata": {},
   "source": [
    "gpt-4 API has limit of 8,192 tokens with training data up to Sep 2021"
   ]
  },
  {
   "cell_type": "markdown",
   "id": "db1d5caa",
   "metadata": {},
   "source": [
    "**The chat-based version of the GPT-3 API, interactions are structured with a**\n",
    "\n",
    "* system message, \n",
    "* user messages, and \n",
    "* assistant messages.\n",
    "\n",
    "The system message sets the behavior or context, while user and assistant messages take turns in the conversation. It helps the model understand the flow and context of the dialogue, making the conversation more coherent and relevant."
   ]
  },
  {
   "cell_type": "code",
   "execution_count": 1,
   "id": "850b64a5",
   "metadata": {},
   "outputs": [
    {
     "name": "stdout",
     "output_type": "stream",
     "text": [
      "Defaulting to user installation because normal site-packages is not writeable\n",
      "Requirement already satisfied: openai in c:\\users\\ual-laptop\\appdata\\roaming\\python\\python311\\site-packages (0.28.1)\n",
      "Requirement already satisfied: requests>=2.20 in c:\\users\\ual-laptop\\appdata\\roaming\\python\\python311\\site-packages (from openai) (2.31.0)\n",
      "Requirement already satisfied: tqdm in c:\\programdata\\anaconda3\\lib\\site-packages (from openai) (4.65.0)\n",
      "Requirement already satisfied: aiohttp in c:\\programdata\\anaconda3\\lib\\site-packages (from openai) (3.8.3)\n",
      "Requirement already satisfied: charset-normalizer<4,>=2 in c:\\users\\ual-laptop\\appdata\\roaming\\python\\python311\\site-packages (from requests>=2.20->openai) (2.1.1)\n",
      "Requirement already satisfied: idna<4,>=2.5 in c:\\users\\ual-laptop\\appdata\\roaming\\python\\python311\\site-packages (from requests>=2.20->openai) (3.4)\n",
      "Requirement already satisfied: urllib3<3,>=1.21.1 in c:\\users\\ual-laptop\\appdata\\roaming\\python\\python311\\site-packages (from requests>=2.20->openai) (1.26.18)\n",
      "Requirement already satisfied: certifi>=2017.4.17 in c:\\users\\ual-laptop\\appdata\\roaming\\python\\python311\\site-packages (from requests>=2.20->openai) (2023.7.22)\n",
      "Requirement already satisfied: attrs>=17.3.0 in c:\\users\\ual-laptop\\appdata\\roaming\\python\\python311\\site-packages (from aiohttp->openai) (23.1.0)\n",
      "Requirement already satisfied: multidict<7.0,>=4.5 in c:\\programdata\\anaconda3\\lib\\site-packages (from aiohttp->openai) (6.0.2)\n",
      "Requirement already satisfied: async-timeout<5.0,>=4.0.0a3 in c:\\programdata\\anaconda3\\lib\\site-packages (from aiohttp->openai) (4.0.2)\n",
      "Requirement already satisfied: yarl<2.0,>=1.0 in c:\\programdata\\anaconda3\\lib\\site-packages (from aiohttp->openai) (1.8.1)\n",
      "Requirement already satisfied: frozenlist>=1.1.1 in c:\\programdata\\anaconda3\\lib\\site-packages (from aiohttp->openai) (1.3.3)\n",
      "Requirement already satisfied: aiosignal>=1.1.2 in c:\\programdata\\anaconda3\\lib\\site-packages (from aiohttp->openai) (1.2.0)\n",
      "Requirement already satisfied: colorama in c:\\users\\ual-laptop\\appdata\\roaming\\python\\python311\\site-packages (from tqdm->openai) (0.4.6)\n"
     ]
    }
   ],
   "source": [
    "!pip install openai"
   ]
  },
  {
   "cell_type": "code",
   "execution_count": 2,
   "id": "12f7367c",
   "metadata": {},
   "outputs": [],
   "source": [
    "import openai"
   ]
  },
  {
   "cell_type": "code",
   "execution_count": 3,
   "id": "dabf0549",
   "metadata": {},
   "outputs": [
    {
     "name": "stdout",
     "output_type": "stream",
     "text": [
      "0.28.1\n"
     ]
    }
   ],
   "source": [
    "print(openai.__version__)"
   ]
  },
  {
   "cell_type": "code",
   "execution_count": 4,
   "id": "d4fd9a46",
   "metadata": {},
   "outputs": [],
   "source": [
    "API_KEY = '************************************************'"
   ]
  },
  {
   "cell_type": "code",
   "execution_count": 5,
   "id": "ed11b14e",
   "metadata": {},
   "outputs": [],
   "source": [
    "openai.api_key = API_KEY"
   ]
  },
  {
   "cell_type": "code",
   "execution_count": 6,
   "id": "37688c4a",
   "metadata": {},
   "outputs": [],
   "source": [
    "model_id = 'gpt-3.5-turbo'"
   ]
  },
  {
   "cell_type": "code",
   "execution_count": 8,
   "id": "58d2855b",
   "metadata": {},
   "outputs": [],
   "source": [
    "#system, assistant, user\n",
    "conv = []\n",
    "conv.append({'role': 'system', 'content': 'how do I install python ?'})\n"
   ]
  },
  {
   "cell_type": "code",
   "execution_count": 9,
   "id": "765287ab",
   "metadata": {},
   "outputs": [
    {
     "name": "stdout",
     "output_type": "stream",
     "text": [
      "{\n",
      "  \"id\": \"chatcmpl-8DnjA0rjymJ3aFSCWk0bz9U3d0di3\",\n",
      "  \"object\": \"chat.completion\",\n",
      "  \"created\": 1698300108,\n",
      "  \"model\": \"gpt-3.5-turbo-0613\",\n",
      "  \"choices\": [\n",
      "    {\n",
      "      \"index\": 0,\n",
      "      \"message\": {\n",
      "        \"role\": \"assistant\",\n",
      "        \"content\": \"To install Python on your computer, follow these steps:\\n\\n1. Visit the official Python website at python.org/downloads.\\n\\n2. Choose the version of Python you want to install. Generally, it is recommended to install the latest stable version, which is Python 3.x. Click on the download link for your operating system (such as Windows, macOS, or Linux).\\n\\n3. Once the installer file is downloaded, run it.\\n\\n- For Windows: Double-click the downloaded .exe file and follow the prompts in the installation wizard.\\n- For macOS: Double-click the downloaded .pkg file and follow the prompts in the installation wizard.\\n- For Linux: Open a terminal and navigate to the directory where the installer file is located. Run the command \\\"python3 <filename>.tar.xz\\\" to extract the archive, then navigate into the extracted folder and run the command \\\"./configure\\\" followed by \\\"make\\\" and finally \\\"sudo make install\\\".\\n\\n4. During the installation process, you will be asked to customize the installation options. On the \\\"Customize installation\\\" screen, make sure to check the box \\\"Add Python to PATH\\\" (or similar option) so that you can easily use Python from the command line.\\n\\n5. Once the installation is complete, you can open a command prompt or terminal window and type \\\"python\\\" to start the Python interpreter. You can also try typing \\\"python3\\\" if the previous command did not work.\\n\\nThat's it! You have successfully installed Python on your computer. You can now start writing and running Python programs.\"\n",
      "      },\n",
      "      \"finish_reason\": \"stop\"\n",
      "    }\n",
      "  ],\n",
      "  \"usage\": {\n",
      "    \"prompt_tokens\": 13,\n",
      "    \"completion_tokens\": 310,\n",
      "    \"total_tokens\": 323\n",
      "  }\n",
      "}\n"
     ]
    }
   ],
   "source": [
    "response = openai.ChatCompletion.create(\n",
    "        model=model_id,\n",
    "        messages=conv\n",
    ")\n",
    "print(response)"
   ]
  },
  {
   "cell_type": "code",
   "execution_count": 10,
   "id": "1c229bad",
   "metadata": {},
   "outputs": [
    {
     "name": "stdout",
     "output_type": "stream",
     "text": [
      "assistant\n",
      "To install Python on your system, follow the steps below:\n",
      "\n",
      "1. Visit the official Python website at https://www.python.org/downloads/.\n",
      "2. Scroll down to find the latest version of Python for your operating system. There are separate download links for Windows, macOS, and Linux.\n",
      "3. Click on the download link corresponding to your operating system. If you're uncertain about which version to choose, you can click on the \"Download Python X.X.X\" button at the top of the page, where X.X.X represents the latest stable release.\n",
      "4. Once the download is complete, run the installer.\n",
      "\n",
      "Windows:\n",
      "   a. Open the downloaded installer (.exe) file.\n",
      "   b. Check the box that says \"Add Python X.X to PATH\" and click on \"Customize installation\" if you desire to change the installation location.\n",
      "   c. Click on \"Install Now\" to begin the installation process.\n",
      "   d. The installer will now install Python on your system. Wait for it to complete.\n",
      "   e. Finally, click on the \"Close\" button to exit the installer.\n",
      "\n",
      "macOS:\n",
      "   a. Open the downloaded installer (.dmg) file.\n",
      "   b. Double-click on the Python installer package (.pkg) file.\n",
      "   c. Follow the on-screen instructions to complete the installation process.\n",
      "   d. Once the installation finishes, close the installer.\n",
      "\n",
      "Linux:\n",
      "   a. Open a terminal window.\n",
      "   b. Navigate to the directory where the downloaded installer file is located.\n",
      "   c. Run the following command to extract the contents of the installer: `tar -xf Python-X.X.X.tgz`\n",
      "      (Replace X.X.X with the appropriate version number)\n",
      "   d. Navigate into the extracted directory: `cd Python-X.X.X`\n",
      "   e. Run the following commands to configure and install Python:\n",
      "      ```\n",
      "      ./configure --enable-optimizations\n",
      "      make\n",
      "      sudo make install\n",
      "      ```\n",
      "   f. Python will now be installed on your Linux system through the terminal.\n",
      "\n",
      "After completing these steps, Python is installed on your computer. You can verify the installation by opening a new terminal or command prompt window and typing `python --version` to display the installed Python version.\n"
     ]
    }
   ],
   "source": [
    "response = openai.ChatCompletion.create(\n",
    "        model=model_id,\n",
    "        messages=conv\n",
    ")\n",
    "print(response.choices[-1].message.role)\n",
    "print(response.choices[-1].message.content)"
   ]
  },
  {
   "cell_type": "code",
   "execution_count": 13,
   "id": "75870384",
   "metadata": {},
   "outputs": [],
   "source": [
    "def ChatGPT_conversation(conv):\n",
    "    response = openai.ChatCompletion.create(\n",
    "        model=model_id,\n",
    "        messages=conv\n",
    "    )\n",
    "    \n",
    "    api_usage = response['usage']\n",
    "    print('Total token consumed: {0}'.format(api_usage['total_tokens']))\n",
    "    \n",
    "    #stop means complete\n",
    "    print(response['choices'][0].finish_reason)\n",
    "    print(response['choices'][0].index)\n",
    "    \n",
    "    conv.append({'role': response.choices[0].message.role, 'content':response.choices[0].message.content})\n",
    "    return conv\n",
    "\n",
    "\n"
   ]
  },
  {
   "cell_type": "code",
   "execution_count": 14,
   "id": "2c601876",
   "metadata": {},
   "outputs": [
    {
     "name": "stdout",
     "output_type": "stream",
     "text": [
      "Total token consumed: 383\n",
      "stop\n",
      "0\n",
      "Role: assistant; Content: Certainly! Here are step-by-step instructions for installing Python on Windows:\n",
      "\n",
      "1. Visit the Python official website at python.org/downloads.\n",
      "\n",
      "2. On the Downloads page, scroll down to the stable release section and choose the version you want to install. As of my knowledge, Python 3 is recommended for beginners, so select the latest Python 3.x version. \n",
      "\n",
      "3. Click on the \"Download Python X.X.X\" button to start the download.\n",
      "\n",
      "4. Once the installer is downloaded, locate the installer file in your downloads folder (usually named `python-X.X.X.exe`).\n",
      "\n",
      "5. Double-click on the installer file to launch the Python installer.\n",
      "\n",
      "6. In the installer, check the \"Add Python X.X to PATH\" option. This will allow you to run Python from the command prompt easily.\n",
      "\n",
      "7. Optionally, you can customize the installation by clicking on the \"Customize installation\" button. Here you can choose where to install Python, which optional features to include, etc. For beginners, the default settings are generally fine.\n",
      "\n",
      "8. Click on the \"Install Now\" button to begin the installation.\n",
      "\n",
      "9. Wait for the installation to complete. It may take a few minutes.\n",
      "\n",
      "10. Once the installation is finished, you will see the \"Setup was successful\" message. \n",
      "\n",
      "11. Close the installer.\n",
      "\n",
      "12. You can now verify if Python is installed correctly by opening the command prompt (press Win+R and type `cmd`, then press Enter) and typing `python` or `python --version`. If Python is properly installed, it will display the version number.\n",
      "\n",
      "That's it! You have successfully installed Python on Windows. You can now start using it to write and run Python programs.\n"
     ]
    }
   ],
   "source": [
    "conv.append({'role':'user', 'content': 'Can you be more specific for Windows?'})\n",
    "conv = ChatGPT_conversation(conv)\n",
    "print('Role: {0}; Content: {1}'.format(conv[-1]['role'], conv[-1]['content']))"
   ]
  },
  {
   "cell_type": "markdown",
   "id": "4f2f6bcf",
   "metadata": {},
   "source": [
    "**Now let's print the entire conversation**"
   ]
  },
  {
   "cell_type": "code",
   "execution_count": 16,
   "id": "e1920cac",
   "metadata": {},
   "outputs": [
    {
     "name": "stdout",
     "output_type": "stream",
     "text": [
      "system how do I install python ?\n",
      "\n",
      "user Can you be more specific for Windows?\n",
      "\n",
      "user Can you be more specific for Windows?\n",
      "\n",
      "assistant Certainly! Here are step-by-step instructions for installing Python on Windows:\n",
      "\n",
      "1. Visit the Python official website at python.org/downloads.\n",
      "\n",
      "2. On the Downloads page, scroll down to the stable release section and choose the version you want to install. As of my knowledge, Python 3 is recommended for beginners, so select the latest Python 3.x version. \n",
      "\n",
      "3. Click on the \"Download Python X.X.X\" button to start the download.\n",
      "\n",
      "4. Once the installer is downloaded, locate the installer file in your downloads folder (usually named `python-X.X.X.exe`).\n",
      "\n",
      "5. Double-click on the installer file to launch the Python installer.\n",
      "\n",
      "6. In the installer, check the \"Add Python X.X to PATH\" option. This will allow you to run Python from the command prompt easily.\n",
      "\n",
      "7. Optionally, you can customize the installation by clicking on the \"Customize installation\" button. Here you can choose where to install Python, which optional features to include, etc. For beginners, the default settings are generally fine.\n",
      "\n",
      "8. Click on the \"Install Now\" button to begin the installation.\n",
      "\n",
      "9. Wait for the installation to complete. It may take a few minutes.\n",
      "\n",
      "10. Once the installation is finished, you will see the \"Setup was successful\" message. \n",
      "\n",
      "11. Close the installer.\n",
      "\n",
      "12. You can now verify if Python is installed correctly by opening the command prompt (press Win+R and type `cmd`, then press Enter) and typing `python` or `python --version`. If Python is properly installed, it will display the version number.\n",
      "\n",
      "That's it! You have successfully installed Python on Windows. You can now start using it to write and run Python programs.\n",
      "\n"
     ]
    }
   ],
   "source": [
    "for record in conv:\n",
    "    print(record['role'], record['content'])\n",
    "    print()"
   ]
  },
  {
   "cell_type": "code",
   "execution_count": null,
   "id": "e66e6755",
   "metadata": {},
   "outputs": [],
   "source": []
  }
 ],
 "metadata": {
  "kernelspec": {
   "display_name": "Python 3 (ipykernel)",
   "language": "python",
   "name": "python3"
  },
  "language_info": {
   "codemirror_mode": {
    "name": "ipython",
    "version": 3
   },
   "file_extension": ".py",
   "mimetype": "text/x-python",
   "name": "python",
   "nbconvert_exporter": "python",
   "pygments_lexer": "ipython3",
   "version": "3.11.4"
  }
 },
 "nbformat": 4,
 "nbformat_minor": 5
}
